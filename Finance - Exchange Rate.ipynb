{
 "cells": [
  {
   "cell_type": "code",
   "execution_count": 66,
   "metadata": {
    "collapsed": false
   },
   "outputs": [],
   "source": [
    "import numpy as py\n",
    "import os, csv, datetime\n",
    "import pandas as pd\n",
    "import matplotlib.pyplot as plt\n",
    "%matplotlib inline \n",
    "import seaborn as sns\n",
    "import urllib.request, json \n",
    "import quandl as ql"
   ]
  },
  {
   "cell_type": "markdown",
   "metadata": {},
   "source": [
    "https://query.yahooapis.com/v1/public/yql?q=select%20*%20from%20yahoo.finance.xchange%20where%20pair%20in%20(%22GBPHKD%22%2C%22HKDGBP%22)&format=json&diagnostics=true&env=store%3A%2F%2Fdatatables.org%2Falltableswithkeys&callback="
   ]
  },
  {
   "cell_type": "code",
   "execution_count": 8,
   "metadata": {
    "collapsed": false
   },
   "outputs": [
    {
     "name": "stdout",
     "output_type": "stream",
     "text": [
      "{'query': {'count': 2, 'created': '2017-06-03T12:42:59Z', 'lang': 'en-US', 'diagnostics': {'url': [{'execution-start-time': '0', 'execution-stop-time': '1', 'execution-time': '1', 'content': 'http://www.datatables.org/yahoo/finance/yahoo.finance.xchange.xml'}, {'execution-start-time': '3', 'execution-stop-time': '3', 'execution-time': '0', 'content': 'http://download.finance.yahoo.com/d/quotes.csv?s=HKDGBP=X&f=snl1d1t1ab'}, {'execution-start-time': '3', 'execution-stop-time': '3', 'execution-time': '0', 'content': 'http://download.finance.yahoo.com/d/quotes.csv?s=GBPHKD=X&f=snl1d1t1ab'}], 'publiclyCallable': 'true', 'cache': [{'execution-start-time': '2', 'execution-stop-time': '3', 'execution-time': '1', 'method': 'GET', 'type': 'MEMCACHED', 'content': '53655f08b3a3635043f1b7ebef7c40e2'}, {'execution-start-time': '2', 'execution-stop-time': '3', 'execution-time': '1', 'method': 'GET', 'type': 'MEMCACHED', 'content': '3ca79b084ec30c3bf204b471a9975b02'}], 'query': [{'execution-start-time': '3', 'execution-stop-time': '3', 'execution-time': '0', 'content': \"select * from csv where url='http://download.finance.yahoo.com/d/quotes.csv?s=HKDGBP=X&f=snl1d1t1ab' and columns='Symbol,Name,Rate,Date,Time,Ask,Bid'\"}, {'execution-start-time': '3', 'execution-stop-time': '4', 'execution-time': '1', 'content': \"select * from csv where url='http://download.finance.yahoo.com/d/quotes.csv?s=GBPHKD=X&f=snl1d1t1ab' and columns='Symbol,Name,Rate,Date,Time,Ask,Bid'\"}], 'javascript': [{'execution-start-time': '2', 'execution-stop-time': '4', 'execution-time': '2', 'instructions-used': '35149', 'table-name': 'yahoo.finance.xchange'}, {'execution-start-time': '2', 'execution-stop-time': '4', 'execution-time': '2', 'instructions-used': '37330', 'table-name': 'yahoo.finance.xchange'}], 'user-time': '4', 'service-time': '3', 'build-version': '2.0.134'}, 'results': {'rate': [{'id': 'GBPHKD', 'Name': 'GBP/HKD', 'Rate': '10.0340', 'Date': '6/2/2017', 'Time': '10:27pm', 'Ask': '10.0390', 'Bid': '10.0340'}, {'id': 'HKDGBP', 'Name': 'HKD/GBP', 'Rate': '0.0996', 'Date': '6/2/2017', 'Time': '10:25pm', 'Ask': '0.0997', 'Bid': '0.0996'}]}}}\n"
     ]
    }
   ],
   "source": [
    "with urllib.request.urlopen(\"https://query.yahooapis.com/v1/public/yql?q=select%20*%20from%20yahoo.finance.xchange%20where%20pair%20in%20(%22GBPHKD%22%2C%22HKDGBP%22)&format=json&diagnostics=true&env=store%3A%2F%2Fdatatables.org%2Falltableswithkeys&callback=\") as url:\n",
    "    data = json.loads(url.read().decode())\n",
    "    print(data)"
   ]
  },
  {
   "cell_type": "code",
   "execution_count": 17,
   "metadata": {
    "collapsed": false
   },
   "outputs": [],
   "source": [
    "jn = urllib.request.urlopen(\"https://query.yahooapis.com/v1/public/yql?q=select%20*%20from%20yahoo.finance.xchange%20where%20pair%20in%20(%22GBPHKD%22%2C%22HKDGBP%22)&format=json&diagnostics=true&env=store%3A%2F%2Fdatatables.org%2Falltableswithkeys&callback=\").read() \n",
    "df = pd.read_json(jn)"
   ]
  },
  {
   "cell_type": "markdown",
   "metadata": {},
   "source": [
    "##### Yahoo live query require more work - although it will have daily live query and cover public holidays as well...\n",
    "##### For long term analysis purpose, Quandl with suffice "
   ]
  },
  {
   "cell_type": "code",
   "execution_count": 59,
   "metadata": {
    "collapsed": false
   },
   "outputs": [],
   "source": [
    "Quandl_DF = ql.get(\"BOE/XUDLHDS\", authtoken=\"AUpKE1-xMYxathtHrkNK\", start_date=\"1989-01-01\", end_date=\"2017-12-31\").reset_index()\n",
    "Quandl_DF.columns = ['Date', 'GBP_to_HKD']"
   ]
  },
  {
   "cell_type": "code",
   "execution_count": 82,
   "metadata": {
    "collapsed": false
   },
   "outputs": [],
   "source": [
    "#Quandl_DF['Date_series'] = pd.to_datetime(Quandl_DF['Date'])\n",
    "Quandl_DF['Month'] = Quandl_DF['Date'].dt.month\n",
    "Quandl_DF['Year'] = Quandl_DF['Date'].dt.year\n",
    "Quandl_DF['WeekNo'] = Quandl_DF['Date'].dt.week"
   ]
  },
  {
   "cell_type": "code",
   "execution_count": 84,
   "metadata": {
    "collapsed": false
   },
   "outputs": [
    {
     "name": "stdout",
     "output_type": "stream",
     "text": [
      "<class 'pandas.core.frame.DataFrame'>\n",
      "RangeIndex: 7181 entries, 0 to 7180\n",
      "Data columns (total 5 columns):\n",
      "Date          7181 non-null datetime64[ns]\n",
      "GBP_to_HKD    7181 non-null float64\n",
      "Month         7181 non-null int64\n",
      "Year          7181 non-null int64\n",
      "WeekNo        7181 non-null int64\n",
      "dtypes: datetime64[ns](1), float64(1), int64(3)\n",
      "memory usage: 280.6 KB\n"
     ]
    },
    {
     "data": {
      "text/html": [
       "<div>\n",
       "<table border=\"1\" class=\"dataframe\">\n",
       "  <thead>\n",
       "    <tr style=\"text-align: right;\">\n",
       "      <th></th>\n",
       "      <th>Date</th>\n",
       "      <th>GBP_to_HKD</th>\n",
       "      <th>Month</th>\n",
       "      <th>Year</th>\n",
       "      <th>WeekNo</th>\n",
       "    </tr>\n",
       "  </thead>\n",
       "  <tbody>\n",
       "    <tr>\n",
       "      <th>7176</th>\n",
       "      <td>2017-05-25</td>\n",
       "      <td>10.0880</td>\n",
       "      <td>5</td>\n",
       "      <td>2017</td>\n",
       "      <td>21</td>\n",
       "    </tr>\n",
       "    <tr>\n",
       "      <th>7177</th>\n",
       "      <td>2017-05-26</td>\n",
       "      <td>9.9680</td>\n",
       "      <td>5</td>\n",
       "      <td>2017</td>\n",
       "      <td>21</td>\n",
       "    </tr>\n",
       "    <tr>\n",
       "      <th>7178</th>\n",
       "      <td>2017-05-30</td>\n",
       "      <td>10.0237</td>\n",
       "      <td>5</td>\n",
       "      <td>2017</td>\n",
       "      <td>22</td>\n",
       "    </tr>\n",
       "    <tr>\n",
       "      <th>7179</th>\n",
       "      <td>2017-05-31</td>\n",
       "      <td>10.0618</td>\n",
       "      <td>5</td>\n",
       "      <td>2017</td>\n",
       "      <td>22</td>\n",
       "    </tr>\n",
       "    <tr>\n",
       "      <th>7180</th>\n",
       "      <td>2017-06-01</td>\n",
       "      <td>10.0540</td>\n",
       "      <td>6</td>\n",
       "      <td>2017</td>\n",
       "      <td>22</td>\n",
       "    </tr>\n",
       "  </tbody>\n",
       "</table>\n",
       "</div>"
      ],
      "text/plain": [
       "           Date  GBP_to_HKD  Month  Year  WeekNo\n",
       "7176 2017-05-25     10.0880      5  2017      21\n",
       "7177 2017-05-26      9.9680      5  2017      21\n",
       "7178 2017-05-30     10.0237      5  2017      22\n",
       "7179 2017-05-31     10.0618      5  2017      22\n",
       "7180 2017-06-01     10.0540      6  2017      22"
      ]
     },
     "execution_count": 84,
     "metadata": {},
     "output_type": "execute_result"
    }
   ],
   "source": [
    "#Quandl_DF.drop(['Date_series'], axis = 1,  inplace = True)\n",
    "Quandl_DF.info()\n",
    "Quandl_DF.tail(5)"
   ]
  },
  {
   "cell_type": "code",
   "execution_count": 81,
   "metadata": {
    "collapsed": false
   },
   "outputs": [
    {
     "data": {
      "image/png": "[encoded data removed]",
      "text/plain": [
       "<matplotlib.figure.Figure at 0xc3f72e5390>"
      ]
     },
     "metadata": {},
     "output_type": "display_data"
    }
   ],
   "source": [
    "X =Quandl_DF.where(Quandl_DF['Date'] >= '20100101').groupby(['Year','Month'])['GBP_to_HKD'].mean().plot()"
   ]
  },
  {
   "cell_type": "code",
   "execution_count": 86,
   "metadata": {
    "collapsed": false
   },
   "outputs": [
    {
     "data": {
      "image/png": "[encoded data removed]",
      "text/plain": [
       "<matplotlib.figure.Figure at 0xc3f776fb38>"
      ]
     },
     "metadata": {},
     "output_type": "display_data"
    }
   ],
   "source": [
    "X =Quandl_DF.where(Quandl_DF['Date'] >= '20150101').groupby(['Year','WeekNo'])['GBP_to_HKD'].mean().plot()"
   ]
  },
  {
   "cell_type": "markdown",
   "metadata": {},
   "source": [
    "Try this next:\n",
    "In [1]: from pandas_datareader.oanda import get_oanda_currency_historical_rates\n",
    "In [2]: start, end = \"2016-01-01\", \"2016-06-01\"\n",
    "In [3]: quote_currency = \"USD\"\n",
    "In [4]: base_currency = [\"EUR\", \"GBP\", \"JPY\"]\n",
    "In [5]: df_rates = get_oanda_currency_historical_rates(\n",
    "            start, end,\n",
    "            quote_currency=quote_currency,\n",
    "            base_currency=base_currency\n",
    "        )\n",
    "In [6]: print(df_rates)\n",
    "\n",
    "OANDA http://pandas-datareader.readthedocs.io/en/latest/remote_data.html"
   ]
  },
  {
   "cell_type": "code",
   "execution_count": null,
   "metadata": {
    "collapsed": true
   },
   "outputs": [],
   "source": []
  }
 ],
 "metadata": {
  "kernelspec": {
   "display_name": "Python 3",
   "language": "python",
   "name": "python3"
  },
  "language_info": {
   "codemirror_mode": {
    "name": "ipython",
    "version": 3
   },
   "file_extension": ".py",
   "mimetype": "text/x-python",
   "name": "python",
   "nbconvert_exporter": "python",
   "pygments_lexer": "ipython3",
   "version": "3.6.0"
  }
 },
 "nbformat": 4,
 "nbformat_minor": 2
}
